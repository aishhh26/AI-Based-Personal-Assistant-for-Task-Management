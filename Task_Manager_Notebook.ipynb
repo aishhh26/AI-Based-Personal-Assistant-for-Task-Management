{
 "cells": [
  {
   "cell_type": "markdown",
   "id": "af27927e",
   "metadata": {},
   "source": [
    "# ✅ Voice-Assisted Task Manager (Jupyter-Friendly Version)"
   ]
  },
  {
   "cell_type": "code",
   "execution_count": 2,
   "id": "1fd61549",
   "metadata": {},
   "outputs": [],
   "source": [
    "!pip install SpeechRecognition pyttsx3 pyaudio --quiet\n",
    "# If pyaudio fails, uncomment the lines below (Windows only):\n",
    "# !pip install pipwin\n",
    "# !pipwin install pyaudio"
   ]
  },
  {
   "cell_type": "code",
   "execution_count": 3,
   "id": "57ce87fb",
   "metadata": {},
   "outputs": [],
   "source": [
    "import speech_recognition as sr\n",
    "import pyttsx3\n",
    "import sqlite3\n",
    "import re\n",
    "from datetime import datetime\n",
    "\n",
    "engine = pyttsx3.init()"
   ]
  },
  {
   "cell_type": "code",
   "execution_count": 4,
   "id": "930bd497",
   "metadata": {},
   "outputs": [],
   "source": [
    "def init_db():\n",
    "    conn = sqlite3.connect('task_management.db')\n",
    "    cur = conn.cursor()\n",
    "    cur.execute('''\n",
    "    CREATE TABLE IF NOT EXISTS tasks (\n",
    "        id INTEGER PRIMARY KEY AUTOINCREMENT,\n",
    "        task_name TEXT NOT NULL,\n",
    "        due_date TEXT,\n",
    "        status TEXT DEFAULT 'Pending',\n",
    "        priority TEXT\n",
    "    )\n",
    "    ''')\n",
    "    conn.commit()\n",
    "    conn.close()\n",
    "\n",
    "init_db()"
   ]
  },
  {
   "cell_type": "code",
   "execution_count": 5,
   "id": "1cc48825",
   "metadata": {},
   "outputs": [],
   "source": [
    "def validate_date(date_string):\n",
    "    try:\n",
    "        datetime.strptime(date_string, \"%Y-%m-%d\")\n",
    "        return True\n",
    "    except ValueError:\n",
    "        return False\n",
    "\n",
    "def speak(text):\n",
    "    engine.say(text)\n",
    "    engine.runAndWait()\n",
    "\n",
    "def listen():\n",
    "    recognizer = sr.Recognizer()\n",
    "    mic = sr.Microphone()\n",
    "    with mic as source:\n",
    "        print(\"🎤 Listening...\")\n",
    "        audio = recognizer.listen(source)\n",
    "    try:\n",
    "        command = recognizer.recognize_google(audio)\n",
    "        print(\"You said:\", command)\n",
    "        return command.lower()\n",
    "    except Exception as e:\n",
    "        print(\"Error:\", e)\n",
    "        return None"
   ]
  },
  {
   "cell_type": "code",
   "execution_count": 6,
   "id": "d999a6e9",
   "metadata": {},
   "outputs": [],
   "source": [
    "def add_task(task, due_date=\"\", priority=\"Medium\"):\n",
    "    if due_date and not validate_date(due_date):\n",
    "        print(\"Invalid date format. Use YYYY-MM-DD.\")\n",
    "        return\n",
    "    conn = sqlite3.connect('task_management.db')\n",
    "    cur = conn.cursor()\n",
    "    cur.execute(\"INSERT INTO tasks (task_name, due_date, priority) VALUES (?, ?, ?)\",\n",
    "                (task, due_date if due_date else None, priority))\n",
    "    conn.commit()\n",
    "    conn.close()\n",
    "    print(\"✅ Task added successfully!\")\n",
    "\n",
    "def view_tasks():\n",
    "    conn = sqlite3.connect('task_management.db')\n",
    "    cur = conn.cursor()\n",
    "    cur.execute(\"SELECT id, task_name, due_date, status, priority FROM tasks\")\n",
    "    tasks = cur.fetchall()\n",
    "    conn.close()\n",
    "    if tasks:\n",
    "        print(f\"{'ID':<5} {'Task Name':<25} {'Due Date':<15} {'Status':<12} {'Priority'}\")\n",
    "        print(\"-\" * 70)\n",
    "        for task in tasks:\n",
    "            print(f\"{task[0]:<5} {task[1]:<25} {task[2]:<15} {task[3]:<12} {task[4]}\")\n",
    "    else:\n",
    "        print(\"No tasks found.\")\n",
    "\n",
    "def delete_task(task_id):\n",
    "    conn = sqlite3.connect('task_management.db')\n",
    "    cur = conn.cursor()\n",
    "    cur.execute(\"DELETE FROM tasks WHERE id = ?\", (task_id,))\n",
    "    conn.commit()\n",
    "    conn.close()\n",
    "    print(f\"🗑️ Task {task_id} deleted.\")\n",
    "\n",
    "def update_task_status(task_id, status):\n",
    "    conn = sqlite3.connect('task_management.db')\n",
    "    cur = conn.cursor()\n",
    "    cur.execute(\"UPDATE tasks SET status = ? WHERE id = ?\", (status, task_id))\n",
    "    conn.commit()\n",
    "    conn.close()\n",
    "    print(f\"🛠️ Task {task_id} status updated to '{status}'.\")"
   ]
  },
  {
   "cell_type": "code",
   "execution_count": 7,
   "id": "3e5a60fd",
   "metadata": {},
   "outputs": [],
   "source": [
    "def text_input_interface():\n",
    "    while True:\n",
    "        print(\"\\n📝 Task Manager Menu:\")\n",
    "        print(\"1. Add Task\")\n",
    "        print(\"2. View Tasks\")\n",
    "        print(\"3. Delete Task\")\n",
    "        print(\"4. Update Task Status\")\n",
    "        print(\"5. Exit\")\n",
    "        choice = input(\"Choose (1-5): \")\n",
    "        if choice == '1':\n",
    "            task = input(\"Task description: \")\n",
    "            due_date = input(\"Due date (YYYY-MM-DD or leave blank): \")\n",
    "            priority = input(\"Priority (Low/Medium/High): \")\n",
    "            add_task(task, due_date, priority.capitalize())\n",
    "        elif choice == '2':\n",
    "            view_tasks()\n",
    "        elif choice == '3':\n",
    "            task_id = int(input(\"Enter task ID to delete: \"))\n",
    "            delete_task(task_id)\n",
    "        elif choice == '4':\n",
    "            task_id = int(input(\"Enter task ID to update: \"))\n",
    "            status = input(\"Enter new status (e.g., In Progress, Completed): \")\n",
    "            update_task_status(task_id, status.capitalize())\n",
    "        elif choice == '5':\n",
    "            print(\"👋 Exiting. Goodbye!\")\n",
    "            speak(\"Goodbye!\")\n",
    "            break\n",
    "        else:\n",
    "            print(\"Invalid choice.\")"
   ]
  },
  {
   "cell_type": "code",
   "execution_count": null,
   "id": "e1ac36f7",
   "metadata": {},
   "outputs": [
    {
     "name": "stdout",
     "output_type": "stream",
     "text": [
      "\n",
      "📝 Task Manager Menu:\n",
      "1. Add Task\n",
      "2. View Tasks\n",
      "3. Delete Task\n",
      "4. Update Task Status\n",
      "5. Exit\n"
     ]
    },
    {
     "name": "stdin",
     "output_type": "stream",
     "text": [
      "Choose (1-5):  2\n"
     ]
    },
    {
     "name": "stdout",
     "output_type": "stream",
     "text": [
      "No tasks found.\n",
      "\n",
      "📝 Task Manager Menu:\n",
      "1. Add Task\n",
      "2. View Tasks\n",
      "3. Delete Task\n",
      "4. Update Task Status\n",
      "5. Exit\n"
     ]
    },
    {
     "name": "stdin",
     "output_type": "stream",
     "text": [
      "Choose (1-5):  1\n",
      "Task description:  complete the assignments\n",
      "Due date (YYYY-MM-DD or leave blank):  20-07-2025\n",
      "Priority (Low/Medium/High):  medium\n"
     ]
    },
    {
     "name": "stdout",
     "output_type": "stream",
     "text": [
      "Invalid date format. Use YYYY-MM-DD.\n",
      "\n",
      "📝 Task Manager Menu:\n",
      "1. Add Task\n",
      "2. View Tasks\n",
      "3. Delete Task\n",
      "4. Update Task Status\n",
      "5. Exit\n"
     ]
    },
    {
     "name": "stdin",
     "output_type": "stream",
     "text": [
      "Choose (1-5):  2\n"
     ]
    },
    {
     "name": "stdout",
     "output_type": "stream",
     "text": [
      "No tasks found.\n",
      "\n",
      "📝 Task Manager Menu:\n",
      "1. Add Task\n",
      "2. View Tasks\n",
      "3. Delete Task\n",
      "4. Update Task Status\n",
      "5. Exit\n"
     ]
    },
    {
     "name": "stdin",
     "output_type": "stream",
     "text": [
      "Choose (1-5):  1\n",
      "Task description:  Complete certification courses\n",
      "Due date (YYYY-MM-DD or leave blank):  2025-07-20\n",
      "Priority (Low/Medium/High):  High\n"
     ]
    },
    {
     "name": "stdout",
     "output_type": "stream",
     "text": [
      "✅ Task added successfully!\n",
      "\n",
      "📝 Task Manager Menu:\n",
      "1. Add Task\n",
      "2. View Tasks\n",
      "3. Delete Task\n",
      "4. Update Task Status\n",
      "5. Exit\n"
     ]
    },
    {
     "name": "stdin",
     "output_type": "stream",
     "text": [
      "Choose (1-5):  2\n"
     ]
    },
    {
     "name": "stdout",
     "output_type": "stream",
     "text": [
      "ID    Task Name                 Due Date        Status       Priority\n",
      "----------------------------------------------------------------------\n",
      "1     Complete certification courses 2025-07-20      Pending      High\n",
      "\n",
      "📝 Task Manager Menu:\n",
      "1. Add Task\n",
      "2. View Tasks\n",
      "3. Delete Task\n",
      "4. Update Task Status\n",
      "5. Exit\n"
     ]
    },
    {
     "name": "stdin",
     "output_type": "stream",
     "text": [
      "Choose (1-5):  4\n",
      "Enter task ID to update:  1\n",
      "Enter new status (e.g., In Progress, Completed):  Completed\n"
     ]
    },
    {
     "name": "stdout",
     "output_type": "stream",
     "text": [
      "🛠️ Task 1 status updated to 'Completed'.\n",
      "\n",
      "📝 Task Manager Menu:\n",
      "1. Add Task\n",
      "2. View Tasks\n",
      "3. Delete Task\n",
      "4. Update Task Status\n",
      "5. Exit\n"
     ]
    },
    {
     "name": "stdin",
     "output_type": "stream",
     "text": [
      "Choose (1-5):  2\n"
     ]
    },
    {
     "name": "stdout",
     "output_type": "stream",
     "text": [
      "ID    Task Name                 Due Date        Status       Priority\n",
      "----------------------------------------------------------------------\n",
      "1     Complete certification courses 2025-07-20      Completed    High\n",
      "\n",
      "📝 Task Manager Menu:\n",
      "1. Add Task\n",
      "2. View Tasks\n",
      "3. Delete Task\n",
      "4. Update Task Status\n",
      "5. Exit\n"
     ]
    },
    {
     "name": "stdin",
     "output_type": "stream",
     "text": [
      "Choose (1-5):  3\n",
      "Enter task ID to delete:  1\n"
     ]
    },
    {
     "name": "stdout",
     "output_type": "stream",
     "text": [
      "🗑️ Task 1 deleted.\n",
      "\n",
      "📝 Task Manager Menu:\n",
      "1. Add Task\n",
      "2. View Tasks\n",
      "3. Delete Task\n",
      "4. Update Task Status\n",
      "5. Exit\n"
     ]
    },
    {
     "name": "stdin",
     "output_type": "stream",
     "text": [
      "Choose (1-5):  2\n"
     ]
    },
    {
     "name": "stdout",
     "output_type": "stream",
     "text": [
      "No tasks found.\n",
      "\n",
      "📝 Task Manager Menu:\n",
      "1. Add Task\n",
      "2. View Tasks\n",
      "3. Delete Task\n",
      "4. Update Task Status\n",
      "5. Exit\n"
     ]
    }
   ],
   "source": [
    "# Run this to launch the Task Manager (text version for notebook)\n",
    "text_input_interface()"
   ]
  },
  {
   "cell_type": "code",
   "execution_count": null,
   "id": "095af758-c70c-4ea3-83dc-b6b6471cd858",
   "metadata": {},
   "outputs": [],
   "source": []
  }
 ],
 "metadata": {
  "kernelspec": {
   "display_name": "Python [conda env:base] *",
   "language": "python",
   "name": "conda-base-py"
  },
  "language_info": {
   "codemirror_mode": {
    "name": "ipython",
    "version": 3
   },
   "file_extension": ".py",
   "mimetype": "text/x-python",
   "name": "python",
   "nbconvert_exporter": "python",
   "pygments_lexer": "ipython3",
   "version": "3.12.7"
  }
 },
 "nbformat": 4,
 "nbformat_minor": 5
}
